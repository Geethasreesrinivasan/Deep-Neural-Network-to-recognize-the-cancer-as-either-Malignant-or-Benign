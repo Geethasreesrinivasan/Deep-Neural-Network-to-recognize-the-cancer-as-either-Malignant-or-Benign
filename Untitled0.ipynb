{
  "nbformat": 4,
  "nbformat_minor": 0,
  "metadata": {
    "colab": {
      "name": "Untitled0.ipynb",
      "provenance": []
    },
    "kernelspec": {
      "name": "python3",
      "display_name": "Python 3"
    },
    "language_info": {
      "name": "python"
    }
  },
  "cells": [
    {
      "cell_type": "markdown",
      "metadata": {
        "id": "uUnzJx5dxJFq"
      },
      "source": [
        "Deep Neural Network to recognize the cancer as either Malignant or Benign"
      ]
    },
    {
      "cell_type": "code",
      "metadata": {
        "id": "3id6H6bixPmm"
      },
      "source": [
        "#IMPORTING DATASET\n",
        "\n",
        "from sklearn.datasets import load_breast_cancer\n",
        "Data = load_breast_cancer()"
      ],
      "execution_count": 1,
      "outputs": []
    },
    {
      "cell_type": "code",
      "metadata": {
        "colab": {
          "base_uri": "https://localhost:8080/"
        },
        "id": "4BK0ugCGxY9j",
        "outputId": "672e3878-0783-4376-943b-a925ecc844ef"
      },
      "source": [
        "print(Data.DESCR)"
      ],
      "execution_count": 2,
      "outputs": [
        {
          "output_type": "stream",
          "text": [
            ".. _breast_cancer_dataset:\n",
            "\n",
            "Breast cancer wisconsin (diagnostic) dataset\n",
            "--------------------------------------------\n",
            "\n",
            "**Data Set Characteristics:**\n",
            "\n",
            "    :Number of Instances: 569\n",
            "\n",
            "    :Number of Attributes: 30 numeric, predictive attributes and the class\n",
            "\n",
            "    :Attribute Information:\n",
            "        - radius (mean of distances from center to points on the perimeter)\n",
            "        - texture (standard deviation of gray-scale values)\n",
            "        - perimeter\n",
            "        - area\n",
            "        - smoothness (local variation in radius lengths)\n",
            "        - compactness (perimeter^2 / area - 1.0)\n",
            "        - concavity (severity of concave portions of the contour)\n",
            "        - concave points (number of concave portions of the contour)\n",
            "        - symmetry \n",
            "        - fractal dimension (\"coastline approximation\" - 1)\n",
            "\n",
            "        The mean, standard error, and \"worst\" or largest (mean of the three\n",
            "        largest values) of these features were computed for each image,\n",
            "        resulting in 30 features.  For instance, field 3 is Mean Radius, field\n",
            "        13 is Radius SE, field 23 is Worst Radius.\n",
            "\n",
            "        - class:\n",
            "                - WDBC-Malignant\n",
            "                - WDBC-Benign\n",
            "\n",
            "    :Summary Statistics:\n",
            "\n",
            "    ===================================== ====== ======\n",
            "                                           Min    Max\n",
            "    ===================================== ====== ======\n",
            "    radius (mean):                        6.981  28.11\n",
            "    texture (mean):                       9.71   39.28\n",
            "    perimeter (mean):                     43.79  188.5\n",
            "    area (mean):                          143.5  2501.0\n",
            "    smoothness (mean):                    0.053  0.163\n",
            "    compactness (mean):                   0.019  0.345\n",
            "    concavity (mean):                     0.0    0.427\n",
            "    concave points (mean):                0.0    0.201\n",
            "    symmetry (mean):                      0.106  0.304\n",
            "    fractal dimension (mean):             0.05   0.097\n",
            "    radius (standard error):              0.112  2.873\n",
            "    texture (standard error):             0.36   4.885\n",
            "    perimeter (standard error):           0.757  21.98\n",
            "    area (standard error):                6.802  542.2\n",
            "    smoothness (standard error):          0.002  0.031\n",
            "    compactness (standard error):         0.002  0.135\n",
            "    concavity (standard error):           0.0    0.396\n",
            "    concave points (standard error):      0.0    0.053\n",
            "    symmetry (standard error):            0.008  0.079\n",
            "    fractal dimension (standard error):   0.001  0.03\n",
            "    radius (worst):                       7.93   36.04\n",
            "    texture (worst):                      12.02  49.54\n",
            "    perimeter (worst):                    50.41  251.2\n",
            "    area (worst):                         185.2  4254.0\n",
            "    smoothness (worst):                   0.071  0.223\n",
            "    compactness (worst):                  0.027  1.058\n",
            "    concavity (worst):                    0.0    1.252\n",
            "    concave points (worst):               0.0    0.291\n",
            "    symmetry (worst):                     0.156  0.664\n",
            "    fractal dimension (worst):            0.055  0.208\n",
            "    ===================================== ====== ======\n",
            "\n",
            "    :Missing Attribute Values: None\n",
            "\n",
            "    :Class Distribution: 212 - Malignant, 357 - Benign\n",
            "\n",
            "    :Creator:  Dr. William H. Wolberg, W. Nick Street, Olvi L. Mangasarian\n",
            "\n",
            "    :Donor: Nick Street\n",
            "\n",
            "    :Date: November, 1995\n",
            "\n",
            "This is a copy of UCI ML Breast Cancer Wisconsin (Diagnostic) datasets.\n",
            "https://goo.gl/U2Uwz2\n",
            "\n",
            "Features are computed from a digitized image of a fine needle\n",
            "aspirate (FNA) of a breast mass.  They describe\n",
            "characteristics of the cell nuclei present in the image.\n",
            "\n",
            "Separating plane described above was obtained using\n",
            "Multisurface Method-Tree (MSM-T) [K. P. Bennett, \"Decision Tree\n",
            "Construction Via Linear Programming.\" Proceedings of the 4th\n",
            "Midwest Artificial Intelligence and Cognitive Science Society,\n",
            "pp. 97-101, 1992], a classification method which uses linear\n",
            "programming to construct a decision tree.  Relevant features\n",
            "were selected using an exhaustive search in the space of 1-4\n",
            "features and 1-3 separating planes.\n",
            "\n",
            "The actual linear program used to obtain the separating plane\n",
            "in the 3-dimensional space is that described in:\n",
            "[K. P. Bennett and O. L. Mangasarian: \"Robust Linear\n",
            "Programming Discrimination of Two Linearly Inseparable Sets\",\n",
            "Optimization Methods and Software 1, 1992, 23-34].\n",
            "\n",
            "This database is also available through the UW CS ftp server:\n",
            "\n",
            "ftp ftp.cs.wisc.edu\n",
            "cd math-prog/cpo-dataset/machine-learn/WDBC/\n",
            "\n",
            ".. topic:: References\n",
            "\n",
            "   - W.N. Street, W.H. Wolberg and O.L. Mangasarian. Nuclear feature extraction \n",
            "     for breast tumor diagnosis. IS&T/SPIE 1993 International Symposium on \n",
            "     Electronic Imaging: Science and Technology, volume 1905, pages 861-870,\n",
            "     San Jose, CA, 1993.\n",
            "   - O.L. Mangasarian, W.N. Street and W.H. Wolberg. Breast cancer diagnosis and \n",
            "     prognosis via linear programming. Operations Research, 43(4), pages 570-577, \n",
            "     July-August 1995.\n",
            "   - W.H. Wolberg, W.N. Street, and O.L. Mangasarian. Machine learning techniques\n",
            "     to diagnose breast cancer from fine-needle aspirates. Cancer Letters 77 (1994) \n",
            "     163-171.\n"
          ],
          "name": "stdout"
        }
      ]
    },
    {
      "cell_type": "code",
      "metadata": {
        "id": "CX-qXlLpxfA7"
      },
      "source": [
        "features = Data.data\n",
        "target = Data.target"
      ],
      "execution_count": 3,
      "outputs": []
    },
    {
      "cell_type": "code",
      "metadata": {
        "colab": {
          "base_uri": "https://localhost:8080/"
        },
        "id": "0tVjt2c7xjj8",
        "outputId": "e855f627-298a-49a4-8e44-f33d526a0ff7"
      },
      "source": [
        "print(features.shape)\n",
        "print(target.shape)"
      ],
      "execution_count": 4,
      "outputs": [
        {
          "output_type": "stream",
          "text": [
            "(569, 30)\n",
            "(569,)\n"
          ],
          "name": "stdout"
        }
      ]
    },
    {
      "cell_type": "code",
      "metadata": {
        "colab": {
          "base_uri": "https://localhost:8080/"
        },
        "id": "HyriS_0dxolj",
        "outputId": "41d9add1-41b6-4bbe-e69c-ca475912eec7"
      },
      "source": [
        "from sklearn.model_selection import train_test_split\n",
        "X_train, X_test, y_train, y_test = train_test_split(features, target, test_size = 0.2)\n",
        "print(X_train.shape)\n",
        "print(y_train.shape)\n",
        "print(X_test.shape)\n",
        "print(y_test.shape)"
      ],
      "execution_count": 5,
      "outputs": [
        {
          "output_type": "stream",
          "text": [
            "(455, 30)\n",
            "(455,)\n",
            "(114, 30)\n",
            "(114,)\n"
          ],
          "name": "stdout"
        }
      ]
    },
    {
      "cell_type": "code",
      "metadata": {
        "id": "fAEZL4PSxs2i"
      },
      "source": [
        "from keras.models import Sequential\n",
        "from keras.layers import Dense"
      ],
      "execution_count": 6,
      "outputs": []
    },
    {
      "cell_type": "code",
      "metadata": {
        "id": "uBtqmFVsxzGF"
      },
      "source": [
        "model = Sequential()\n",
        "model.add(Dense(32, input_dim = 30, activation='relu')) #hidden layer 1\n",
        "model.add(Dense(64, activation='relu')) #hidden layer 2\n",
        "model.add(Dense(1, activation='sigmoid'))"
      ],
      "execution_count": 7,
      "outputs": []
    },
    {
      "cell_type": "code",
      "metadata": {
        "id": "23NBbCYLx2xE"
      },
      "source": [
        "model.compile(loss='binary_crossentropy', optimizer='adam', metrics=['accuracy'])"
      ],
      "execution_count": 8,
      "outputs": []
    },
    {
      "cell_type": "code",
      "metadata": {
        "colab": {
          "base_uri": "https://localhost:8080/"
        },
        "id": "5-v4DRCmx8eD",
        "outputId": "e41951fc-853c-40c9-f898-b207d97f86bc"
      },
      "source": [
        "model.summary()"
      ],
      "execution_count": 9,
      "outputs": [
        {
          "output_type": "stream",
          "text": [
            "Model: \"sequential\"\n",
            "_________________________________________________________________\n",
            "Layer (type)                 Output Shape              Param #   \n",
            "=================================================================\n",
            "dense (Dense)                (None, 32)                992       \n",
            "_________________________________________________________________\n",
            "dense_1 (Dense)              (None, 64)                2112      \n",
            "_________________________________________________________________\n",
            "dense_2 (Dense)              (None, 1)                 65        \n",
            "=================================================================\n",
            "Total params: 3,169\n",
            "Trainable params: 3,169\n",
            "Non-trainable params: 0\n",
            "_________________________________________________________________\n"
          ],
          "name": "stdout"
        }
      ]
    },
    {
      "cell_type": "code",
      "metadata": {
        "colab": {
          "base_uri": "https://localhost:8080/"
        },
        "id": "4FmSuPCuyAjR",
        "outputId": "b401f13b-9d74-4fa4-96ba-8c13cf44adf3"
      },
      "source": [
        "model.fit(X_train, y_train, epochs=10)"
      ],
      "execution_count": 10,
      "outputs": [
        {
          "output_type": "stream",
          "text": [
            "Epoch 1/10\n",
            "15/15 [==============================] - 14s 2ms/step - loss: 10.1429 - accuracy: 0.4209\n",
            "Epoch 2/10\n",
            "15/15 [==============================] - 0s 2ms/step - loss: 0.9181 - accuracy: 0.6683\n",
            "Epoch 3/10\n",
            "15/15 [==============================] - 0s 2ms/step - loss: 0.4382 - accuracy: 0.8791\n",
            "Epoch 4/10\n",
            "15/15 [==============================] - 0s 2ms/step - loss: 0.3677 - accuracy: 0.9015\n",
            "Epoch 5/10\n",
            "15/15 [==============================] - 0s 2ms/step - loss: 0.2750 - accuracy: 0.8980\n",
            "Epoch 6/10\n",
            "15/15 [==============================] - 0s 2ms/step - loss: 0.2564 - accuracy: 0.9084\n",
            "Epoch 7/10\n",
            "15/15 [==============================] - 0s 2ms/step - loss: 0.2839 - accuracy: 0.8963\n",
            "Epoch 8/10\n",
            "15/15 [==============================] - 0s 2ms/step - loss: 0.2731 - accuracy: 0.9149\n",
            "Epoch 9/10\n",
            "15/15 [==============================] - 0s 2ms/step - loss: 0.1904 - accuracy: 0.9442\n",
            "Epoch 10/10\n",
            "15/15 [==============================] - 0s 2ms/step - loss: 0.2147 - accuracy: 0.9231\n"
          ],
          "name": "stdout"
        },
        {
          "output_type": "execute_result",
          "data": {
            "text/plain": [
              "<keras.callbacks.History at 0x7f8431e20610>"
            ]
          },
          "metadata": {
            "tags": []
          },
          "execution_count": 10
        }
      ]
    },
    {
      "cell_type": "code",
      "metadata": {
        "colab": {
          "base_uri": "https://localhost:8080/"
        },
        "id": "2ghdCGMyyIVO",
        "outputId": "22b4a97b-4495-414a-fe2b-76b3d23f35cb"
      },
      "source": [
        "scores = model.evaluate(X_test, y_test)\n",
        "print(scores)"
      ],
      "execution_count": 11,
      "outputs": [
        {
          "output_type": "stream",
          "text": [
            "4/4 [==============================] - 0s 3ms/step - loss: 0.2742 - accuracy: 0.8684\n",
            "[0.27417901158332825, 0.8684210777282715]\n"
          ],
          "name": "stdout"
        }
      ]
    },
    {
      "cell_type": "code",
      "metadata": {
        "colab": {
          "base_uri": "https://localhost:8080/"
        },
        "id": "j2GCTWD8yL3z",
        "outputId": "003d8820-0d3c-42fc-930b-b8c78967df0c"
      },
      "source": [
        "predictions = model.predict(X_test)\n",
        "label=[]\n",
        "for pred in predictions:\n",
        "  if pred>=0.5:\n",
        "    print(\"Malignant\")\n",
        "  else:\n",
        "    print(\"Benign\")"
      ],
      "execution_count": 12,
      "outputs": [
        {
          "output_type": "stream",
          "text": [
            "Malignant\n",
            "Benign\n",
            "Malignant\n",
            "Malignant\n",
            "Benign\n",
            "Malignant\n",
            "Benign\n",
            "Benign\n",
            "Malignant\n",
            "Malignant\n",
            "Malignant\n",
            "Malignant\n",
            "Benign\n",
            "Malignant\n",
            "Malignant\n",
            "Benign\n",
            "Malignant\n",
            "Benign\n",
            "Malignant\n",
            "Malignant\n",
            "Malignant\n",
            "Benign\n",
            "Malignant\n",
            "Malignant\n",
            "Malignant\n",
            "Benign\n",
            "Malignant\n",
            "Benign\n",
            "Benign\n",
            "Benign\n",
            "Benign\n",
            "Malignant\n",
            "Malignant\n",
            "Malignant\n",
            "Malignant\n",
            "Benign\n",
            "Malignant\n",
            "Malignant\n",
            "Benign\n",
            "Benign\n",
            "Malignant\n",
            "Malignant\n",
            "Malignant\n",
            "Benign\n",
            "Malignant\n",
            "Malignant\n",
            "Benign\n",
            "Malignant\n",
            "Malignant\n",
            "Malignant\n",
            "Benign\n",
            "Benign\n",
            "Malignant\n",
            "Malignant\n",
            "Benign\n",
            "Malignant\n",
            "Malignant\n",
            "Malignant\n",
            "Benign\n",
            "Benign\n",
            "Malignant\n",
            "Malignant\n",
            "Malignant\n",
            "Malignant\n",
            "Benign\n",
            "Malignant\n",
            "Benign\n",
            "Benign\n",
            "Malignant\n",
            "Malignant\n",
            "Benign\n",
            "Malignant\n",
            "Malignant\n",
            "Benign\n",
            "Malignant\n",
            "Malignant\n",
            "Benign\n",
            "Malignant\n",
            "Benign\n",
            "Benign\n",
            "Benign\n",
            "Benign\n",
            "Malignant\n",
            "Malignant\n",
            "Malignant\n",
            "Malignant\n",
            "Malignant\n",
            "Malignant\n",
            "Benign\n",
            "Benign\n",
            "Benign\n",
            "Benign\n",
            "Benign\n",
            "Malignant\n",
            "Malignant\n",
            "Malignant\n",
            "Malignant\n",
            "Malignant\n",
            "Benign\n",
            "Benign\n",
            "Malignant\n",
            "Benign\n",
            "Benign\n",
            "Malignant\n",
            "Malignant\n",
            "Benign\n",
            "Malignant\n",
            "Malignant\n",
            "Benign\n",
            "Malignant\n",
            "Malignant\n",
            "Benign\n",
            "Benign\n",
            "Benign\n"
          ],
          "name": "stdout"
        }
      ]
    }
  ]
}